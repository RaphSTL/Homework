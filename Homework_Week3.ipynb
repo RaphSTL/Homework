{
 "cells": [
  {
   "cell_type": "markdown",
   "metadata": {},
   "source": [
    " ##   **What is an algorithm?**\n",
    "> It's series of steps to solve a problem at hand.\n",
    "\n",
    " ##   **Variable names may not start with certain characters - name two.**\n",
    ">  - *Numbers*\n",
    ">  - *Special Character*\n",
    "   \n",
    " ##   **What is a Semantic error?**\n",
    " >  *The code is gramatically correct, and runs successfully but the results are unexpected i.e. it produces the wrong results.*\n",
    "\n",
    " ##  **What is the #1 rule of coding / debugging?**\n",
    " >  Complexity is the enemy of efficiency\n",
    "\n",
    " ##   **List 5 Python reserved words.**\n",
    "\n",
    ">  - False\n",
    ">  - True\n",
    ">  - None\n",
    ">  - break\n",
    ">  - else\n"
   ]
  },
  {
   "cell_type": "code",
   "execution_count": 14,
   "metadata": {},
   "outputs": [
    {
     "name": "stdout",
     "output_type": "stream",
     "text": [
      "My name is Raphael, and my favorite food is Beef Steak. My dream job is Data Scientist.\n"
     ]
    }
   ],
   "source": [
    "name = \"Raphael\"\n",
    "Favorite_Food = \"Beef Steak\"\n",
    "Dream_Job = \"Data Scientist\"\n",
    "\n",
    "print(f\"My name is {name}, and my favorite food is {Favorite_Food}. My dream job is {Dream_Job}.\")"
   ]
  },
  {
   "cell_type": "code",
   "execution_count": 15,
   "metadata": {},
   "outputs": [
    {
     "name": "stdout",
     "output_type": "stream",
     "text": [
      "19\n"
     ]
    }
   ],
   "source": [
    "# Assign 5 different data types to 5 different variables. At least one datatype must be a string\n",
    "#   Print the length of your string \n",
    "#   Print the index value of the 4th character in your string\n",
    "\n",
    "MyString_Variable = \"Homework Week Three\"\n",
    "MyInteger_Variable = 2025\n",
    "MyNumeric_Variable = 9.58\n",
    "MyList_Variable = [\"AFC East\",\"AFC West\",\"AFC North\", \"AFC South\",\"NFC East\",\"NFC West\",\"NFC North\",\"NFC South\"]\n",
    "MyMapping_Variable = {\"Bills\":\"AFC East\",\"Chiefs\":\"AFC West\",\"Ravens\":\"AFC North\",\"Texans\":\"AFC South\"}\n",
    "\n",
    "print(len(MyString_Variable))"
   ]
  },
  {
   "cell_type": "code",
   "execution_count": 32,
   "metadata": {},
   "outputs": [
    {
     "name": "stdout",
     "output_type": "stream",
     "text": [
      "5\n",
      "24\n",
      "ing Data Analytics \n",
      "Learning Data Analytics and Python is Great!\n",
      "yes ,it contains the text Python\n"
     ]
    }
   ],
   "source": [
    "  # Create a new variable called savvy, and assign it the string with this phrase \"Learning Data Analytics and Python is Awesome!\"\n",
    "  # Return a range of characters that slices the above string from the beginning of \"ing\" up to before \"and\"\n",
    "  # Replace \"Awesome\" with \"great\" in the string\n",
    "  # Test and print the savvy string to see it contains \"Python\"\n",
    "\n",
    "savvy = \"Learning Data Analytics and Python is Awesome!\"\n",
    "\n",
    "print (savvy.find(\"ing\"))\n",
    "print (savvy.find(\"and\"))\n",
    "\n",
    "print(savvy[5:24])\n",
    "\n",
    "print(savvy.replace(\"Awesome\",\"Great\"))\n",
    "\n",
    "if \"Python\" in savvy:\n",
    "    print(\"yes\",\",it contains the text Python\")\n"
   ]
  },
  {
   "cell_type": "code",
   "execution_count": 47,
   "metadata": {},
   "outputs": [
    {
     "name": "stdout",
     "output_type": "stream",
     "text": [
      "Hi, my name is Raphael, I am tall and 72 old today.\n",
      "None\n",
      "Hi, my name is Raphael, I am tall and 72 old today.\n",
      "72.0\n"
     ]
    }
   ],
   "source": [
    "  # Create and assign 3 more variables called name, age and length using the multi-variable naming method\n",
    "  # Format a new string called 'miniBio' using variables in curly brackets to complete this phrase... \"Hi my name is (name), I am (tall) and (so) old today.\"\n",
    "  # Print 'miniBio' \n",
    "  # Cast and print the age variable to a float\n",
    "\n",
    "name,age,length = \"Raphael\",72,\"tall\"\n",
    "\n",
    "miniBio = print (f\"Hi, my name is {name}, I am {length} and {age} old today.\")\n",
    "print( miniBio)\n",
    "\n",
    "print(f\"Hi, my name is {name}, I am {length} and {age} old today.\")\n",
    "\n",
    "age = float(age)\n",
    "print(age)\n",
    "\n"
   ]
  },
  {
   "cell_type": "code",
   "execution_count": 79,
   "metadata": {},
   "outputs": [
    {
     "name": "stdout",
     "output_type": "stream",
     "text": [
      "Name of retail outlet replaced... ['Schnucks', 'January', 5, 2025, ('Time', 2.0, 'PM'), ('Amount', 12.99, 'Dollars')]\n",
      "New appended list... ['Schnucks', 'January', 5, 2025, ('Time', 2.0, 'PM'), ('Amount', 12.99, 'Dollars'), ('Phone', '(314) 726-2373')]\n",
      "The length of the list is = 7\n",
      "[2025, ('Time', 2.0, 'PM')]\n",
      "['Schnucks', 'January', 5, 2025, ('Time', 2.0, 'PM'), ('Amount', 12.99, 'Dollars'), ('Phone', '(314) 726-2373'), 2025, ('Time', 2.0, 'PM')]\n",
      "['Illinois', 'Indiana', 'Kansas', 'Missouri', 'Wisconsin']\n",
      "['Wisconsin', 'Missouri', 'Kansas', 'Indiana', 'Illinois']\n",
      "['Wisconsin', 'Missouri', 'Kansas', 'Indiana', 'Illinois']\n",
      "[2025, ('Time', 2.0, 'PM'), 'Wisconsin', 'Missouri', 'Kansas', 'Indiana', 'Illinois']\n"
     ]
    }
   ],
   "source": [
    "#  Create a list of at least 5 elements of mixed data types\n",
    "    #   Replace a part of it with something else\n",
    "    #   Append or insert several more items to the list\n",
    "    #   Find and print the length of the list\n",
    "    #   Slice a sub-section of the 1st list, and save it to a different 2nd list\n",
    "    #   Print the 2nd list\n",
    "    #   Extend your original list with the 2nd list sliced above\n",
    "    #   Create a new list called \"simList\" containing at least 5 elements of the same data type, either string, integer, float, or Boolean\n",
    "    #   Sort \"simList\", and print the list\n",
    "    #   Copy the \"simList\" list to another 3rd list\n",
    "    #   Add the 2nd and 3rd lists together into a 4th list\n",
    "\n",
    "Receipt = [\"Dierbergs\", \"January\", 5, 2025,(\"Time\",2.00,\"PM\"),(\"Amount\",12.99,\"Dollars\")]\n",
    "\n",
    "Receipt[0] = \"Schnucks\"\n",
    "print(\"Name of retail outlet replaced...\", Receipt)\n",
    "\n",
    "Receipt.append ((\"Phone\",\"(314) 726-2373\"))\n",
    "print(\"New appended list...\",Receipt)\n",
    "\n",
    "print(\"The length of the list is =\",len(Receipt))\n",
    "\n",
    "Receipt_New = Receipt[3:5]\n",
    "print(Receipt_New)\n",
    "\n",
    "Receipt.extend(Receipt_New)\n",
    "print(Receipt)\n",
    "\n",
    "simList = [\"Missouri\", \"Illinois\",\"Indiana\",\"Wisconsin\",\"Kansas\"]\n",
    "simList.sort()\n",
    "print(simList)\n",
    "\n",
    "simList.sort(reverse=True)\n",
    "print(simList)\n",
    "\n",
    "simList_New = sorted(simList, reverse=True)\n",
    "print(simList_New)\n",
    "\n",
    "fourthList = Receipt_New + simList_New\n",
    "print(fourthList)\n",
    "\n",
    "\n",
    "\n"
   ]
  },
  {
   "cell_type": "code",
   "execution_count": 94,
   "metadata": {},
   "outputs": [
    {
     "name": "stdout",
     "output_type": "stream",
     "text": [
      "McDermott\n",
      "Does Not Exist\n",
      "McDermott\n",
      "{'Team': 'Bills', 'Wins': 13, 'Loses': 4, 'Percentage': 0.765, 'Coach': 'Raphael', 'Quarterback': 'Josh Allen'}\n",
      "{'Team': 'Bills', 'Wins': 13, 'Loses': 4, 'Percentage': 0.765, 'Coach': 'Raphael', 'Quarterback': 'Josh Allen', 'Favorite Color': 'Blue'}\n",
      "Original Dictionary {'Team': 'Bills', 'Wins': 13, 'Loses': 4, 'Percentage': 0.765, 'Coach': 'Raphael', 'Quarterback': 'Josh Allen', 'Favorite Color': 'Blue', 'Last 5 Games': []}\n",
      "Dictionary with Wins & Losses {'Team': 'Bills', 'Wins': 13, 'Loses': 4, 'Percentage': 0.765, 'Coach': 'Raphael', 'Quarterback': 'Josh Allen', 'Favorite Color': 'Blue', 'Last 5 Games': [16, 40, 24, 48, 42]}\n",
      "dict_keys(['Team', 'Wins', 'Loses', 'Percentage', 'Coach', 'Quarterback', 'Favorite Color', 'Last 5 Games'])\n",
      "dict_values(['Bills', 13, 4, 0.765, 'Raphael', 'Josh Allen', 'Blue', [16, 40, 24, 48, 42]])\n",
      "{'Team': 'Bills', 'Wins': 13, 'Loses': 4, 'Percentage': 0.765, 'Coach': 'Raphael', 'Quarterback': 'Josh Allen', 'Favorite Color': 'Blue', 'Last 5 Games': [16, 40, 24, 48, 42]}\n",
      "{'Team': 'Bills', 'Wins': 13, 'Loses': 4, 'Percentage': 0.765, 'Coach': 'Raphael', 'Quarterback': 'Josh Allen', 'Favorite Color': 'Blue', 'Last 5 Games': [16, 40, 24, 48, 42]}\n",
      "{'Team': 'Bills', 'Wins': 13, 'Loses': 4, 'Percentage': 0.765, 'Coach': 'Raphael', 'Quarterback': 'Josh Allen', 'Last 5 Games': [16, 40, 24, 48, 42]}\n",
      "{}\n"
     ]
    }
   ],
   "source": [
    "#   Create a dictionary with at least 5 values of different data types\n",
    "    #   Print out 1 value\n",
    "    #   Replace any one value in your dictionary with your name\n",
    "    #   Add your favorite color to the dictionary\n",
    "    #   Add a list, tuple or set to your dictionary\n",
    "    #   Print a list of the dictionary keys\n",
    "    #   Print a list of the dictionary values\n",
    "    #   Copy your 1st dictionary into a 2nd dictionary\n",
    "    #   Pop an item from the 2nd dictionary, and print the dictionary\n",
    "    #   Remove all the elements from the 2nd dictionary and print the result\n",
    "\n",
    "\n",
    "myNFL = {\n",
    "    \"Team\":\"Bills\",\n",
    "    \"Wins\":13,\n",
    "    \"Loses\":4,\n",
    "    \"Percentage\":0.765,\n",
    "    \"Coach\":\"McDermott\",\n",
    "    \"Quarterback\":\"Josh Allen\"}\n",
    "\n",
    "print(myNFL[\"Coach\"])\n",
    "\n",
    "print(myNFL.get(\"coach\",\"Does Not Exist\"))\n",
    "\n",
    "print(myNFL.get(\"Coach\",\"Does Not Exist\"))\n",
    "\n",
    "myNFL [\"Coach\"] = \"Raphael\"\n",
    "print(myNFL)\n",
    "\n",
    "myNFL [\"Favorite Color\"] = \"Blue\"\n",
    "print(myNFL)\n",
    "\n",
    "myNFL[\"Last 5 Games\"] = []\n",
    "print (\"Original Dictionary\",myNFL)\n",
    "\n",
    "myNFL.update({\"Last 5 Games\": [16,40,24,48,42]})\n",
    "print(\"Dictionary with Wins & Losses\",myNFL)\n",
    "\n",
    "print(myNFL.keys())\n",
    "\n",
    "print(myNFL.values ())\n",
    "\n",
    "myNFL_new = myNFL.copy()\n",
    "\n",
    "print (myNFL)\n",
    "print (myNFL_new)\n",
    "\n",
    "Removed_Item = myNFL_new.pop (\"Favorite Color\")\n",
    "print(myNFL_new)\n",
    "\n",
    "myNFL_new.clear()\n",
    "print(myNFL_new)\n",
    "\n",
    "\n",
    "\n",
    "         "
   ]
  }
 ],
 "metadata": {
  "kernelspec": {
   "display_name": "Python 3",
   "language": "python",
   "name": "python3"
  },
  "language_info": {
   "codemirror_mode": {
    "name": "ipython",
    "version": 3
   },
   "file_extension": ".py",
   "mimetype": "text/x-python",
   "name": "python",
   "nbconvert_exporter": "python",
   "pygments_lexer": "ipython3",
   "version": "3.13.1"
  }
 },
 "nbformat": 4,
 "nbformat_minor": 2
}
