{
 "cells": [
  {
   "cell_type": "markdown",
   "metadata": {},
   "source": [
    "##    What does one need to do to use a module?\n",
    "* Use import statement to import the module\n",
    "\n",
    "##    Name a Module *(not the DateTime Nodule)* we looked at and write a line or 2 of code as an example using this module.\n",
    "* random module used to generate random numbers\n",
    "\n",
    "> -   Example of code:\n",
    "> -   import random\n",
    "> -   random_number = random.randint(1, 100) \n",
    "\n",
    "##    What is a benefit of using **Exception handling**?\n",
    "* Exception handling allows the code to execute insted of of crashing/stopping when errors are encountered.\n",
    "\n",
    "##    what are the 4 components used for Python Exception Handling?\n",
    "> - try: \n",
    "> - except\n",
    "> - else\n",
    "> - finally\n",
    "\n",
    "##    NumPy arrays are like what Python data type?\n",
    "* They are similar to lists\n",
    "\n",
    "##    What is one of the main benefits of using NumPy arrays.\n",
    "*    Numpy arrays support vectorized operations - faster and more efficient computations compared to Python lists. \n",
    "*    NumPy can also be used as an efficient multi-dimensional container of generic data. Arbitrary data-types can be defined. This allows NumPy to seamlessly and speedily integrate with a wide variety of databases.\n",
    "\n",
    "##    What is one of the main requirements about the *'dtype'* of NumPy arrays?\n",
    "* Must have the same data type\n",
    "\n",
    "##    Of the 10 uses of NumPy, name 2.\n",
    "* Data manioulation - reshaping arrays, slicing etc\n",
    "* Numericaal computations\n",
    "\n",
    "##    Name one of the other libraries we'll use with NumPy?\n",
    "* Pandas\n",
    "\n",
    "##    What is the shape of NumPy arrays?\n",
    "* A tuple of non-negative integers that specify the dimensions, length and size of each array (Indicates the number of elements along each dimension)\n",
    "\n",
    "##    What is a Tensor?\n",
    "* An array with 3 or more dimensions\n",
    "\n",
    "##    Name a reason why it's better using NumPy for Data Analysis than using a Python List?\n",
    "* Numpy arrays are faster and use memory more efficiently than python lists\n",
    "\n",
    "\n",
    "##    When creating an \"empty\" array, where do the elements come from?\n",
    "* Random (uninitialize) values from the memory\n"
   ]
  },
  {
   "cell_type": "code",
   "execution_count": 24,
   "metadata": {},
   "outputs": [
    {
     "name": "stdout",
     "output_type": "stream",
     "text": [
      "Renting a is expensive\n"
     ]
    }
   ],
   "source": [
    "# 1. Create an if statement: if 'age' is greater than or equal to 25, print \"Renting a car is more affordable\", however if 'age' is less than 25, print \"Renting a car is very expensive.\"\n",
    "\n",
    "age =20\n",
    "\n",
    "if age >= 25:\n",
    "    print(\"Renting a car is more affordable\")\n",
    "else:\n",
    "     print(\"Renting a is expensive\")\n",
    "\n",
    "     "
   ]
  },
  {
   "cell_type": "code",
   "execution_count": 25,
   "metadata": {},
   "outputs": [
    {
     "name": "stdout",
     "output_type": "stream",
     "text": [
      "Renting a car is very expensive\n"
     ]
    }
   ],
   "source": [
    "# 2. Create and chain an if-else statement: if 'age' is greater than or equal to 25, print \"Renting a car is more affordable.\" \n",
    "# If 'age' is less than 25 but greater than or equal to 18, print \"Renting a car is very expensive.\" Finally, if age is less than 18, print \"You cannot legally rent a car.\"\n",
    "\n",
    "age =24\n",
    "\n",
    "if age >= 25:\n",
    "    print(\"Renting a cars more affordable\")\n",
    "elif age >= 18:\n",
    "    print(\"Renting a car is very expensive\")\n",
    "else:\n",
    "    print (\"You cannot legally rent a car\")"
   ]
  },
  {
   "cell_type": "code",
   "execution_count": 1,
   "metadata": {},
   "outputs": [
    {
     "name": "stdout",
     "output_type": "stream",
     "text": [
      "Total number of characters:1\n",
      "Total number of characters:2\n",
      "Total number of characters:3\n",
      "Total number of characters:4\n",
      "Total number of characters:5\n",
      "Total number of characters:6\n",
      "Total number of characters:7\n",
      "Total number of characters:8\n",
      "Total number of characters:9\n",
      "Total number of characters:10\n",
      "Total number of characters:11\n",
      "Total number of characters:12\n",
      "Total number of characters:13\n",
      "Total number of characters:14\n",
      "Total number of characters:15\n",
      "Total number of characters:16\n",
      "Total number of characters:17\n",
      "Total number of characters:18\n",
      "Total number of characters:19\n",
      "Total number of characters:20\n",
      "Total number of characters:21\n",
      "Total number of characters:22\n",
      "Total number of characters:23\n",
      "Total number of characters:24\n",
      "Total number of characters:25\n",
      "Total number of characters:26\n",
      "Total number of characters:27\n",
      "Total number of characters:28\n",
      "Total number of characters:29\n",
      "Total number of characters:30\n",
      "Total number of characters:31\n",
      "Total number of characters:32\n",
      "Total number of characters:33\n",
      "Total number of characters:34\n",
      "Total number of characters:35\n",
      "Total number of characters:36\n",
      "Total number of characters:37\n",
      "Total number of characters:38\n",
      "Total number of characters:39\n",
      "Total number of characters:40\n",
      "Total number of characters:41\n",
      "Total number of characters:42\n",
      "Total number of characters:43\n"
     ]
    },
    {
     "ename": "",
     "evalue": "",
     "output_type": "error",
     "traceback": [
      "\u001b[1;31mThe Kernel crashed while executing code in the current cell or a previous cell. \n",
      "\u001b[1;31mPlease review the code in the cell(s) to identify a possible cause of the failure. \n",
      "\u001b[1;31mClick <a href='https://aka.ms/vscodeJupyterKernelCrash'>here</a> for more info. \n",
      "\u001b[1;31mView Jupyter <a href='command:jupyter.viewOutput'>log</a> for further details."
     ]
    }
   ],
   "source": [
    "# 3. Loop over the following string to \n",
    "    # (1) count all the characters in the string and \n",
    "    # (2) print out all the vowels -- \"The quick brown fox jumps over the lazy dog\" TO DO\n",
    "\n",
    "mytext = \"The quick brown fox jumps over the lazy dog\"\n",
    "\n",
    "characters = 0\n",
    "vowels = \"aeiou\"\n",
    "\n",
    "for char_count in mytext:\n",
    "    characters += 1\n",
    "    print(f\"Total number of characters:{characters}\")\n",
    "\n"
   ]
  },
  {
   "cell_type": "code",
   "execution_count": 2,
   "metadata": {},
   "outputs": [
    {
     "name": "stdout",
     "output_type": "stream",
     "text": [
      "e\n",
      "u\n",
      "i\n",
      "o\n",
      "o\n",
      "u\n",
      "o\n",
      "e\n",
      "e\n",
      "a\n",
      "o\n"
     ]
    }
   ],
   "source": [
    "mytext = \"The quick brown fox jumps over the lazy dog\"\n",
    "\n",
    "characters = 0\n",
    "vowels = \"aeiou\"\n",
    "\n",
    "\n",
    "\n",
    "for letter in mytext:\n",
    "    if letter in vowels:\n",
    "        print(letter)"
   ]
  },
  {
   "cell_type": "code",
   "execution_count": 8,
   "metadata": {},
   "outputs": [
    {
     "name": "stdout",
     "output_type": "stream",
     "text": [
      "trousers burnt sienna\n",
      "trousers fuchsia\n",
      "trousers maple\n",
      "trousers gunmetal blue\n",
      "trousers cerise\n",
      "trousers aqua\n",
      "trousers Dark Sapphire\n",
      "trousers auburn\n",
      "blouse burnt sienna\n",
      "blouse fuchsia\n",
      "blouse maple\n",
      "blouse gunmetal blue\n",
      "blouse cerise\n",
      "blouse aqua\n",
      "blouse Dark Sapphire\n",
      "blouse auburn\n",
      "bandana burnt sienna\n",
      "bandana fuchsia\n",
      "bandana maple\n",
      "bandana gunmetal blue\n",
      "bandana cerise\n",
      "bandana aqua\n",
      "bandana Dark Sapphire\n",
      "bandana auburn\n",
      "cumber band burnt sienna\n",
      "cumber band fuchsia\n",
      "cumber band maple\n",
      "cumber band gunmetal blue\n",
      "cumber band cerise\n",
      "cumber band aqua\n",
      "cumber band Dark Sapphire\n",
      "cumber band auburn\n",
      "blazer burnt sienna\n",
      "blazer fuchsia\n",
      "blazer maple\n",
      "blazer gunmetal blue\n",
      "blazer cerise\n",
      "blazer aqua\n",
      "blazer Dark Sapphire\n",
      "blazer auburn\n",
      "vest burnt sienna\n",
      "vest fuchsia\n",
      "vest maple\n",
      "vest gunmetal blue\n",
      "vest cerise\n",
      "vest aqua\n",
      "vest Dark Sapphire\n",
      "vest auburn\n",
      "french beret burnt sienna\n",
      "french beret fuchsia\n",
      "french beret maple\n",
      "french beret gunmetal blue\n",
      "french beret cerise\n",
      "french beret aqua\n",
      "french beret Dark Sapphire\n",
      "french beret auburn\n",
      "scarf burnt sienna\n",
      "scarf fuchsia\n",
      "scarf maple\n",
      "scarf gunmetal blue\n",
      "scarf cerise\n",
      "scarf aqua\n",
      "scarf Dark Sapphire\n",
      "scarf auburn\n",
      "stole burnt sienna\n",
      "stole fuchsia\n",
      "stole maple\n",
      "stole gunmetal blue\n",
      "stole cerise\n",
      "stole aqua\n",
      "stole Dark Sapphire\n",
      "stole auburn\n"
     ]
    }
   ],
   "source": [
    "# 4. Write a nested loop that prints out every piece of clothing from the couture list, in every fashionable color from the panettone set: \n",
    "# couture = [\"trousers\", \"blouse\", \"bandana\", \"cumber band\", \"blazer\", \"vest\", \"french beret\", \"scarf\", \"stole\"] and \n",
    "# panettone = {\"cerise\", \"fuchsia\", \"aqua\", \"maple\", \"auburn\", \"burnt sienna\", \"gunmetal blue\", \"Dark Sapphire\"}\n",
    "\n",
    "couture = [\"trousers\", \"blouse\", \"bandana\", \"cumber band\", \"blazer\", \"vest\", \"french beret\", \"scarf\", \"stole\"]\n",
    "\n",
    "panettone = {\"cerise\", \"fuchsia\", \"aqua\", \"maple\", \"auburn\", \"burnt sienna\", \"gunmetal blue\", \"Dark Sapphire\"}\n",
    "\n",
    "#   for Clothes_Count in couture:\n",
    "#   print(Clothes_Count)\n",
    "\n",
    "#    for Color_Count in panettone:\n",
    "#    print(Color_Count)\n",
    "\n",
    "for cloth in couture:\n",
    "    for color in panettone:\n",
    "        print(cloth,color)\n"
   ]
  },
  {
   "cell_type": "code",
   "execution_count": 9,
   "metadata": {},
   "outputs": [
    {
     "name": "stdout",
     "output_type": "stream",
     "text": [
      "The sum is: 5050\n"
     ]
    }
   ],
   "source": [
    "# 5. Use range as a loop to calculate the sum of all the numbers from 1 to 100\n",
    "\n",
    "sum_of_num = 0\n",
    "\n",
    "for num in range(1,101):\n",
    "    sum_of_num += num\n",
    "\n",
    "print(\"The sum is:\", sum_of_num)"
   ]
  },
  {
   "cell_type": "code",
   "execution_count": 13,
   "metadata": {},
   "outputs": [
    {
     "data": {
      "text/plain": [
       "'banana'"
      ]
     },
     "execution_count": 13,
     "metadata": {},
     "output_type": "execute_result"
    }
   ],
   "source": [
    "# 6. Print the second item in this fruits list. [\"apple\", \"banana\", \"cherry\"]\n",
    "\n",
    "\n",
    "fruitsList = [\"apple\", \"banana\", \"cherry\"]\n",
    "\n",
    "fruitsList[1]\n",
    "\n"
   ]
  },
  {
   "cell_type": "code",
   "execution_count": 14,
   "metadata": {},
   "outputs": [
    {
     "name": "stdout",
     "output_type": "stream",
     "text": [
      "['Kiwi', 'banana', 'cherry']\n"
     ]
    }
   ],
   "source": [
    "# 7. Change the value from \"apple\" to \"kiwi\", in the fruits list.\n",
    "\n",
    "fruitsList[0] = \"Kiwi\"\n",
    "print(fruitsList)"
   ]
  },
  {
   "cell_type": "code",
   "execution_count": 10,
   "metadata": {},
   "outputs": [
    {
     "name": "stdout",
     "output_type": "stream",
     "text": [
      "['apple', 'banana', 'cherry', 'Orange']\n",
      "['apple', 'Lemon', 'banana', 'cherry', 'Orange']\n",
      "['apple', 'Lemon', 'cherry', 'Orange']\n"
     ]
    }
   ],
   "source": [
    "# Use the append method to add \"orange\" to the fruits list. [\"apple\", \"banana\", \"cherry\"]\n",
    "\n",
    "fruitsList = [\"apple\", \"banana\", \"cherry\"]\n",
    "fruitsList.append(\"Orange\")\n",
    "print(fruitsList)\n",
    "\n",
    "# Use the insert method to add \"lemon\" as the second item in the fruits list. [\"apple\", \"banana\", \"cherry\"]\n",
    "\n",
    "fruitsList.insert(1,\"Lemon\")\n",
    "print(fruitsList)\n",
    "\n",
    "# Use the remove method to remove \"banana\" from the fruits list. [\"apple\", \"banana\", \"cherry\"]\n",
    "\n",
    "fruitsList.remove(\"banana\")\n",
    "print(fruitsList)"
   ]
  },
  {
   "cell_type": "code",
   "execution_count": 12,
   "metadata": {},
   "outputs": [
    {
     "name": "stdout",
     "output_type": "stream",
     "text": [
      "['cherry', 'orange', 'kiwi']\n"
     ]
    }
   ],
   "source": [
    "# Use a range of indexes to print the third, fourth, and fifth item in the list. [\"apple\", \"banana\", \"cherry\", \"orange\", \"kiwi\", \"melon\", \"mango\"]\n",
    "\n",
    "fruits = [\"apple\", \"banana\", \"cherry\", \"orange\", \"kiwi\", \"melon\", \"mango\"]\n",
    "print(fruits[2:5])"
   ]
  },
  {
   "cell_type": "code",
   "execution_count": 13,
   "metadata": {},
   "outputs": [
    {
     "name": "stdout",
     "output_type": "stream",
     "text": [
      "7\n"
     ]
    }
   ],
   "source": [
    "# Use the correct syntax to print the number of items in the list. [\"apple\", \"banana\", \"cherry\", \"orange\", \"kiwi\", \"melon\", \"mango\"]\n",
    "\n",
    "print(len(fruits))"
   ]
  },
  {
   "cell_type": "code",
   "execution_count": 14,
   "metadata": {},
   "outputs": [
    {
     "name": "stdout",
     "output_type": "stream",
     "text": [
      "['mango', 'melon', 'kiwi', 'orange', 'cherry', 'banana', 'apple']\n"
     ]
    }
   ],
   "source": [
    "# Use the correct syntax to sort this list in reverse order [\"apple\", \"banana\", \"cherry\", \"orange\", \"kiwi\", \"melon\", \"mango\"]\n",
    "\n",
    "fruits.reverse()\n",
    "print(fruits)\n"
   ]
  },
  {
   "cell_type": "code",
   "execution_count": null,
   "metadata": {},
   "outputs": [],
   "source": []
  },
  {
   "cell_type": "code",
   "execution_count": 18,
   "metadata": {},
   "outputs": [
    {
     "name": "stdout",
     "output_type": "stream",
     "text": [
      "Current month: January\n",
      "Current Month: 1\n"
     ]
    }
   ],
   "source": [
    "# Use the DateTime module to get Current Date and Time, and save it to a variable. Then extract just the Full month name form that variable.\n",
    "\n",
    "from datetime import datetime\n",
    "\n",
    "# Get current date and time\n",
    "DateTime_Now = datetime.now()\n",
    "\n",
    "# Extract the full month name\n",
    "month_name = DateTime_Now.strftime(\"%B\")\n",
    "print(\"Current month:\", month_name)\n",
    "\n"
   ]
  },
  {
   "cell_type": "code",
   "execution_count": 20,
   "metadata": {},
   "outputs": [
    {
     "name": "stdout",
     "output_type": "stream",
     "text": [
      "Hi Eddie! Happy Monday!\n",
      "Hi Fred! Happy Sunday!\n"
     ]
    }
   ],
   "source": [
    "# Write a simple function that takes 2 parameters -- a first name and a day name.\n",
    "\n",
    "    #    Set a default value for the day name of Sunday.\n",
    "    #    Have the function print out a greeting -- using the parameters -- that says something like \"Hi first-name! Happy day-name!\". Remember to use the variables in the greeting to replace first-name and day-name.\n",
    "    #    Invoke this function with 2 variables.\n",
    "    #    Invoke this function with 1 variable only.\n",
    "\n",
    "\n",
    "def greet(first_name, day_name=\"Sunday\"):\n",
    "    print(f\"Hi {first_name}! Happy {day_name}!\")\n",
    "\n",
    "# Invoke the function with 2 variables\n",
    "greet(\"Eddie\", \"Monday\")\n",
    "\n",
    "# Invoke the function with 1 variable only\n",
    "greet(\"Fred\")\n"
   ]
  },
  {
   "cell_type": "code",
   "execution_count": 23,
   "metadata": {},
   "outputs": [
    {
     "name": "stdout",
     "output_type": "stream",
     "text": [
      "Error: Division by zero is not allowed!\n",
      "Execution of the try-except block is complete.\n",
      "Division successful. Result: 3.0\n",
      "Execution of the try-except block is complete.\n"
     ]
    }
   ],
   "source": [
    "# Write a block of code to handle one of the most common Python exception errors. \n",
    "# Select one of the common errors from the curriculum section on Python Exception handling. Have your code example uses the try,except, else, and finally components.\n",
    "\n",
    "try:\n",
    "    # Attempt division by zero\n",
    "    result = 15 / 0\n",
    "except ZeroDivisionError:\n",
    "    print(\"Error: Division by zero is not allowed!\")\n",
    "else:\n",
    "    print(\"Division successful. Result:\", result)\n",
    "finally:\n",
    "    print(\"Execution of the try-except block is complete.\")\n",
    "\n",
    "try:\n",
    "    # Attempt division by zero\n",
    "    result = 15 / 5\n",
    "except ZeroDivisionError:\n",
    "    print(\"Error: Division by zero is not allowed!\")\n",
    "else:\n",
    "    print(\"Division successful. Result:\", result)\n",
    "finally:\n",
    "    print(\"Execution of the try-except block is complete.\")\n"
   ]
  }
 ],
 "metadata": {
  "kernelspec": {
   "display_name": "Python 3",
   "language": "python",
   "name": "python3"
  },
  "language_info": {
   "codemirror_mode": {
    "name": "ipython",
    "version": 3
   },
   "file_extension": ".py",
   "mimetype": "text/x-python",
   "name": "python",
   "nbconvert_exporter": "python",
   "pygments_lexer": "ipython3",
   "version": "3.13.1"
  }
 },
 "nbformat": 4,
 "nbformat_minor": 2
}
