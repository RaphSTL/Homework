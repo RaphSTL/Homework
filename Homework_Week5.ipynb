{
 "cells": [
  {
   "cell_type": "markdown",
   "metadata": {},
   "source": [
    "# **__Python Homework (NumPy, Pandas)__**\n",
    "\n",
    "## 1. What does *Pandas* stand for?\n",
    "- Python Data Analysis Library\n",
    "\n",
    "---\n",
    "\n",
    "# 2. What are the 2 collections used in *Pandas*?**\n",
    "- Series: One-dimensional labeled array \n",
    "- DataFrame: Two-dimensional labeled data structure (e.g. table) \n",
    "\n",
    "---\n",
    "\n",
    "# 3. Name 4 things *Pandas* can do for us.\n",
    "1. Data Cleaning\n",
    "2. Data manipulation\n",
    "3. Data Aggregation\n",
    "4. Data Exporting\n",
    "\n",
    "---\n",
    "\n",
    "# 4. To permanently sort a DataFrame, which keyword should one use with the df.sort() method?\n",
    "- inplace=true\n",
    "\n",
    "---\n",
    "\n",
    "# 5. What is a *CSV*?\n",
    "- *Comma-Separated Values*\n",
    "\n",
    "---\n",
    "\n",
    "# 6. When cleaning data what values do we not like in our data?\n",
    "- Missing values\n",
    "- Duplicates\n",
    "- Outliers\n",
    "- Inconsistent Formats\n",
    "\n",
    "---"
   ]
  },
  {
   "cell_type": "code",
   "execution_count": 14,
   "metadata": {},
   "outputs": [
    {
     "name": "stdout",
     "output_type": "stream",
     "text": [
      "Array:\n",
      "[[[ 1  2]\n",
      "  [ 3  4]\n",
      "  [ 5  6]]\n",
      "\n",
      " [[ 7  8]\n",
      "  [ 9 10]\n",
      "  [11 12]]]\n",
      "\n",
      "Shape: (2, 3, 2)\n"
     ]
    }
   ],
   "source": [
    "# 7  Import NumPy, use one of the NumPy methods and create an array with a shape of (2, 3, 2).\n",
    "# You can use the reshape method -- .reshape()\n",
    "\n",
    "import numpy as np\n",
    "\n",
    "# Create an array with shape (2, 3, 2)\n",
    "array = np.array([\n",
    "    [[1, 2], [3, 4], [5, 6]],  # Block 1\n",
    "    [[7, 8], [9, 10], [11, 12]]  # Block 2\n",
    "])\n",
    "\n",
    "print(\"Array:\")\n",
    "print(array)\n",
    "print(\"\\nShape:\", array.shape)\n"
   ]
  },
  {
   "cell_type": "code",
   "execution_count": 13,
   "metadata": {},
   "outputs": [
    {
     "name": "stdout",
     "output_type": "stream",
     "text": [
      "Original Array (1D):\n",
      "[[[ 1  2]\n",
      "  [ 3  4]\n",
      "  [ 5  6]]\n",
      "\n",
      " [[ 7  8]\n",
      "  [ 9 10]\n",
      "  [11 12]]]\n",
      "\n",
      "Reshaped Array (3, 2, 2):\n",
      "[[[ 1  2]\n",
      "  [ 3  4]]\n",
      "\n",
      " [[ 5  6]\n",
      "  [ 7  8]]\n",
      "\n",
      " [[ 9 10]\n",
      "  [11 12]]]\n",
      "\n",
      "Shape of Reshaped Array: (3, 2, 2)\n"
     ]
    }
   ],
   "source": [
    "# Reshape array\n",
    "\n",
    "reshaped_array = array.reshape(3, 2, 2)\n",
    "\n",
    "print(\"Original Array (1D):\")\n",
    "print(array)\n",
    "\n",
    "print(\"\\nReshaped Array (3, 2, 2):\")\n",
    "print(reshaped_array)\n",
    "\n",
    "print(\"\\nShape of Reshaped Array:\", reshaped_array.shape)\n"
   ]
  },
  {
   "cell_type": "code",
   "execution_count": 5,
   "metadata": {},
   "outputs": [
    {
     "name": "stdout",
     "output_type": "stream",
     "text": [
      "\n",
      "Linearly spaced array:\n",
      "[ 0.  4.  8. 12. 16. 20.]\n"
     ]
    }
   ],
   "source": [
    "# 8 Use NumPy linspace to create an array with 6 linearly spaced values between 0 and 20\n",
    "\n",
    "import numpy as np\n",
    "\n",
    "linspace_array = np.linspace(0, 20, 6)\n",
    "print(\"\\nLinearly spaced array:\")\n",
    "print(linspace_array)"
   ]
  },
  {
   "cell_type": "code",
   "execution_count": 6,
   "metadata": {},
   "outputs": [
    {
     "name": "stdout",
     "output_type": "stream",
     "text": [
      "\n",
      "Linearly spaced array:\n",
      "[ 0.  4.  8. 12. 16. 20.]\n",
      "\n",
      "Deep copy of the array:\n",
      "[ 0.  4.  8. 12. 16. 20.]\n"
     ]
    }
   ],
   "source": [
    "# Make a Deep Copy of the above array\n",
    "\n",
    "linspace_array = np.linspace(0, 20, 6)\n",
    "deep_copy_array = linspace_array.copy()\n",
    "\n",
    "print(\"\\nLinearly spaced array:\")\n",
    "print(linspace_array)\n",
    "\n",
    "print(\"\\nDeep copy of the array:\")\n",
    "print(deep_copy_array)\n"
   ]
  },
  {
   "cell_type": "code",
   "execution_count": 7,
   "metadata": {},
   "outputs": [
    {
     "name": "stdout",
     "output_type": "stream",
     "text": [
      "Concatenated array (newArray):\n",
      "[[25 16]\n",
      " [11  2]\n",
      " [13  4]\n",
      " [ 7 81]\n",
      " [ 5  6]\n",
      " [11 12]]\n"
     ]
    }
   ],
   "source": [
    "# Concatenate these 3 arrays into a new array named 'newArray'...\n",
    "\n",
    "import numpy as np\n",
    "\n",
    "# Define the arrays\n",
    "array1 = np.array([[25, 16]])\n",
    "array2 = np.array([[11, 2], [13, 4]])\n",
    "array3 = np.array([[7, 81], [5, 6], [11, 12]])\n",
    "\n",
    "# Concatenate the arrays along axis 0 (rows)\n",
    "newArray = np.concatenate((array1, array2, array3), axis=0)\n",
    "\n",
    "print(\"Concatenated array (newArray):\")\n",
    "print(newArray)\n"
   ]
  },
  {
   "cell_type": "code",
   "execution_count": 12,
   "metadata": {},
   "outputs": [
    {
     "name": "stdout",
     "output_type": "stream",
     "text": [
      "Original array (newArray):\n",
      "[[25 16]\n",
      " [11  2]\n",
      " [13  4]\n",
      " [ 7 81]\n",
      " [ 5  6]\n",
      " [11 12]]\n",
      "\n",
      "Sorted array (sortedArray):\n",
      "[[16 25]\n",
      " [ 2 11]\n",
      " [ 4 13]\n",
      " [ 7 81]\n",
      " [ 5  6]\n",
      " [11 12]]\n"
     ]
    }
   ],
   "source": [
    "# 11 Sort 'newArray' in order into 'sortedArray'\n",
    "\n",
    "sortedArray = np.sort(newArray, axis=1)\n",
    "\n",
    "print(\"Original array (newArray):\")\n",
    "print(newArray)\n",
    "\n",
    "print(\"\\nSorted array (sortedArray):\")\n",
    "print(sortedArray)"
   ]
  },
  {
   "cell_type": "code",
   "execution_count": 11,
   "metadata": {},
   "outputs": [
    {
     "name": "stdout",
     "output_type": "stream",
     "text": [
      "Original array (newArray):\n",
      "[[25 16]\n",
      " [11  2]\n",
      " [13  4]\n",
      " [ 7 81]\n",
      " [ 5  6]\n",
      " [11 12]]\n",
      "\n",
      "Sorted array (sortedArray):\n",
      "[ 2  4  5  6  7 11 11 12 13 16 25 81]\n"
     ]
    }
   ],
   "source": [
    "# Testing flatten array and sort\n",
    "\n",
    "sortedArray = np.sort(newArray, axis=None)\n",
    "\n",
    "print(\"Original array (newArray):\")\n",
    "print(newArray)\n",
    "\n",
    "print(\"\\nSorted array (sortedArray):\")\n",
    "print(sortedArray)"
   ]
  },
  {
   "cell_type": "code",
   "execution_count": 14,
   "metadata": {},
   "outputs": [
    {
     "name": "stdout",
     "output_type": "stream",
     "text": [
      "Tuple 1: [[25 16]\n",
      " [11  2]]\n",
      "Tuple 2: [[13  4]\n",
      " [ 7 81]]\n",
      "Tuple 3: [[ 5  6]\n",
      " [11 12]]\n",
      "Tuple 4: []\n"
     ]
    }
   ],
   "source": [
    "#12 Unpack the array tuples from the above 'reshapedArray' into 4 well named variables. Print the 4 variables.\n",
    "\n",
    "tuple1, tuple2, tuple3, tuple4 = newArray[:2], newArray[2:4], newArray[4:6], newArray[6:]\n",
    "\n",
    "# Print the variables\n",
    "print(\"Tuple 1:\", tuple1)\n",
    "print(\"Tuple 2:\", tuple2)\n",
    "print(\"Tuple 3:\", tuple3)\n",
    "print(\"Tuple 4:\", tuple4)"
   ]
  },
  {
   "cell_type": "code",
   "execution_count": 16,
   "metadata": {},
   "outputs": [
    {
     "name": "stdout",
     "output_type": "stream",
     "text": [
      "Combined and sorted array (comboArray):\n",
      "[ 0  1  2  3  4  5  6  7 10 11 12 13 14 15 16 17 20 21 22 23 24 25 26 27]\n"
     ]
    }
   ],
   "source": [
    "# 13 Combined and sort the following arrays into one called 'comboArray' ...\n",
    "\n",
    "import numpy as np\n",
    "\n",
    "# Define arrays\n",
    "one = ([10, 11, 12, 13, 14, 15, 16, 17])\n",
    "two = ([20, 21, 22, 23, 24, 25, 26, 27])\n",
    "three = ([ 0, 1, 2, 3, 4, 5, 6, 7])\n",
    "\n",
    "# Combine using np.concatenate\n",
    "comboArray = np.concatenate((one, two, three))\n",
    "\n",
    "# Sort the combined array\n",
    "comboArray = np.sort(comboArray)\n",
    "\n",
    "# Print the resulting array\n",
    "print(\"Combined and sorted array (comboArray):\")\n",
    "print(comboArray)"
   ]
  },
  {
   "cell_type": "code",
   "execution_count": 17,
   "metadata": {},
   "outputs": [
    {
     "name": "stdout",
     "output_type": "stream",
     "text": [
      "sec1 - the 2nd element: 1\n",
      "sec2 - all elements from the 3rd element to the last: [ 2  3  4  5  6  7 10 11 12 13 14 15 16 17 20 21 22 23 24 25 26 27]\n",
      "sec3 - all elements from the 4th to the 14th elements: [ 3  4  5  6  7 10 11 12 13 14 15]\n",
      "sec4 - the last 6 elements: [22 23 24 25 26 27]\n",
      "sec5 - all elements from #0 up to and including #15 (negative method): [ 0  1  2  3  4  5  6  7 10 11 12 13 14 15 16 17]\n",
      "sec6 - from #20 every even element to the end: [24 26]\n",
      "sec7 - from the last element moving forward, every 5th element: [27 22 15 10  3]\n"
     ]
    }
   ],
   "source": [
    "import numpy as np\n",
    "\n",
    "# Use comboArray from above\n",
    "\n",
    "# Slicing activities\n",
    "sec1 = comboArray[1]  # The 2nd element\n",
    "sec2 = comboArray[2:]  # All elements from the 3rd element to the last\n",
    "sec3 = comboArray[3:14]  # All elements from the 4th to the 14th elements\n",
    "sec4 = comboArray[-6:]  # The last 6 elements\n",
    "sec5 = comboArray[:-8]  # All elements from #0 up to and including #15 (negative indexing)\n",
    "sec6 = comboArray[20::2]  # From #20 every even element to the end\n",
    "sec7 = comboArray[::-5]  # From the last element moving forward, every 5th element\n",
    "\n",
    "# Print results\n",
    "print(\"sec1 - the 2nd element:\", sec1)\n",
    "print(\"sec2 - all elements from the 3rd element to the last:\", sec2)\n",
    "print(\"sec3 - all elements from the 4th to the 14th elements:\", sec3)\n",
    "print(\"sec4 - the last 6 elements:\", sec4)\n",
    "print(\"sec5 - all elements from #0 up to and including #15 (negative method):\", sec5)\n",
    "print(\"sec6 - from #20 every even element to the end:\", sec6)\n",
    "print(\"sec7 - from the last element moving forward, every 5th element:\", sec7)\n"
   ]
  },
  {
   "cell_type": "code",
   "execution_count": 1,
   "metadata": {},
   "outputs": [
    {
     "name": "stdout",
     "output_type": "stream",
     "text": [
      "       Ingredients  Quantity   Unit\n",
      "Dinner                             \n",
      "0            Flour         4   cups\n",
      "1             Milk         1    cup\n",
      "2             Eggs         2  large\n",
      "3             Spam         1    can\n"
     ]
    }
   ],
   "source": [
    "import pandas as pd\n",
    "\n",
    "# Create the Series for each column\n",
    "ingredients = pd.Series(['Flour', 'Milk', 'Eggs', 'Spam'], name='Ingredients')\n",
    "quantity = pd.Series([4, 1, 2, 1], name='Quantity')\n",
    "unit = pd.Series(['cups', 'cup', 'large', 'can'], name='Unit')\n",
    "\n",
    "# Combine the Series into a DataFrame\n",
    "df = pd.DataFrame({\n",
    "    'Ingredients': ingredients,\n",
    "    'Quantity': quantity,\n",
    "    'Unit': unit\n",
    "})\n",
    "\n",
    "# Assign a name to the Series (optional for indexing context)\n",
    "df.index.name = 'Dinner'\n",
    "\n",
    "print(df)\n"
   ]
  },
  {
   "cell_type": "code",
   "execution_count": 2,
   "metadata": {},
   "outputs": [
    {
     "name": "stdout",
     "output_type": "stream",
     "text": [
      "      Name  Height Qualification  address  Age        Pets           sport\n",
      "0      Jai     5.1           Msc    Delhi   21         Dog           Darts\n",
      "1  Janusha     6.2            MA     Doha   23       Bunny      Basketball\n",
      "2   Gaurav     5.1           Msc  Chennai   24  Chinchilla  PaddleBoarding\n",
      "3     Anuj     5.2           Msc   Dakhar   21      Parrot         Cricket\n"
     ]
    }
   ],
   "source": [
    "#16 Take this data and create a DataFrame named studentData\n",
    "\n",
    "import pandas as pd\n",
    "\n",
    "# Define the dictionary\n",
    "data = {\n",
    "    'Name': ['Jai', 'Janusha', 'Gaurav', 'Anuj'],\n",
    "    'Height': [5.1, 6.2, 5.1, 5.2],\n",
    "    'Qualification': ['Msc', 'MA', 'Msc', 'Msc'],\n",
    "    'address': ['Delhi', 'Doha', 'Chennai', 'Dakhar'],\n",
    "    'Age': [21, 23, 24, 21],\n",
    "    'Pets': ['Dog', 'Bunny', 'Chinchilla', 'Parrot'],\n",
    "    'sport': ['Darts', 'Basketball', 'PaddleBoarding', 'Cricket']\n",
    "}\n",
    "\n",
    "# Create the DataFrame\n",
    "studentData = pd.DataFrame(data)\n",
    "\n",
    "# Display the DataFrame\n",
    "print(studentData)\n"
   ]
  },
  {
   "cell_type": "code",
   "execution_count": 3,
   "metadata": {},
   "outputs": [
    {
     "name": "stdout",
     "output_type": "stream",
     "text": [
      "      Name  Height Qualification  address  Age        Pets           sport  \\\n",
      "0      Jai     5.1           Msc    Delhi   21         Dog           Darts   \n",
      "1  Janusha     6.2            MA     Doha   23       Bunny      Basketball   \n",
      "2   Gaurav     5.1           Msc  Chennai   24  Chinchilla  PaddleBoarding   \n",
      "3     Anuj     5.2           Msc   Dakhar   21      Parrot         Cricket   \n",
      "\n",
      "        Dessert  \n",
      "0     ice cream  \n",
      "1  Cashew Fudge  \n",
      "2       waffels  \n",
      "3  Carrot Halwa  \n"
     ]
    }
   ],
   "source": [
    "#17 Add a new column to the DataFrame with the following deserts: [\"ice cream\", \"Cashew Fudge\", \"waffels\", \"Carrot Halwa\"]\n",
    "\n",
    "# Define the desserts list\n",
    "desserts = [\"ice cream\", \"Cashew Fudge\", \"waffels\", \"Carrot Halwa\"]\n",
    "\n",
    "# Add the new column to the DataFrame\n",
    "studentData['Dessert'] = desserts\n",
    "\n",
    "print(studentData)\n",
    "\n"
   ]
  },
  {
   "cell_type": "code",
   "execution_count": 4,
   "metadata": {},
   "outputs": [
    {
     "name": "stdout",
     "output_type": "stream",
     "text": [
      "      Name  Height Qualification  address  Age        Pets           sport  \\\n",
      "3     Anuj     5.2           Msc   Dakhar   21      Parrot         Cricket   \n",
      "2   Gaurav     5.1           Msc  Chennai   24  Chinchilla  PaddleBoarding   \n",
      "0      Jai     5.1           Msc    Delhi   21         Dog           Darts   \n",
      "1  Janusha     6.2            MA     Doha   23       Bunny      Basketball   \n",
      "\n",
      "        Dessert  \n",
      "3  Carrot Halwa  \n",
      "2       waffels  \n",
      "0     ice cream  \n",
      "1  Cashew Fudge  \n"
     ]
    }
   ],
   "source": [
    "#18 Sort the 'studentData' DataFrame in Ascending order -- Sorting by column 'Name' and then \"address\"\n",
    "\n",
    "# Sort the DataFrame by 'Name' and then by 'address'\n",
    "sorted_studentData = studentData.sort_values(by=['Name', 'address'], ascending=[True, True])\n",
    "\n",
    "print(sorted_studentData)\n"
   ]
  },
  {
   "cell_type": "code",
   "execution_count": 5,
   "metadata": {},
   "outputs": [
    {
     "name": "stdout",
     "output_type": "stream",
     "text": [
      "The DataFrame has been saved as 'cows_and_goats.csv'\n"
     ]
    }
   ],
   "source": [
    "#19 Save this DataFrame here below to disc as a .CSV file with the name cows_and_goats.csv:\n",
    "\n",
    "import pandas as pd\n",
    "\n",
    "# Create the DataFrame\n",
    "df = pd.DataFrame({'Cows': [12, 20], 'Goats': [22, 19]}, index=['Year 1', 'Year 2'])\n",
    "\n",
    "# Save the DataFrame to a CSV file\n",
    "df.to_csv('cows_and_goats.csv')\n",
    "\n",
    "print(\"The DataFrame has been saved as 'cows_and_goats.csv'\")\n"
   ]
  },
  {
   "cell_type": "code",
   "execution_count": 6,
   "metadata": {},
   "outputs": [
    {
     "name": "stdout",
     "output_type": "stream",
     "text": [
      "Files saved: vegetables.csv and vegetables_updated.csv\n"
     ]
    }
   ],
   "source": [
    "#20 (A) Using Pandas, make your own .CSV file with data on vegetables and save it. (B) Using Pandas, make a change to your CSV file, and save a copy with a different name.\n",
    "\n",
    "import pandas as pd\n",
    "\n",
    "# (A) Create the initial DataFrame and save it as a .CSV file\n",
    "vegetables_data = {\n",
    "    'Vegetable': ['Tomatoes', 'Onions', 'Lettuce', 'Green Onions'],\n",
    "    'Quantity': [10, 5, 1, 5],\n",
    "    'Price': [2.99, 3.99, 2.49, 4.50]\n",
    "}\n",
    "vegetables_df = pd.DataFrame(vegetables_data)\n",
    "vegetables_df.to_csv('vegetables.csv', index=False) \n",
    "\n",
    "# (B) Modify the DataFrame: Add Potatoes and update Lettuce quantity\n",
    "vegetables_df.loc[len(vegetables_df)] = ['Potatoes', 8, 7.50]  # Add Potatoes\n",
    "vegetables_df.loc[vegetables_df['Vegetable'] == 'Lettuce', 'Quantity'] = 2  # Update Lettuce quantity\n",
    "\n",
    "# Save the updated DataFrame as a new .CSV file\n",
    "vegetables_df.to_csv('vegetables_updated.csv', index=False)  # Save as vegetables_updated.csv\n",
    "\n",
    "print(\"Files saved: vegetables.csv and vegetables_updated.csv\")\n"
   ]
  },
  {
   "cell_type": "code",
   "execution_count": 7,
   "metadata": {},
   "outputs": [
    {
     "name": "stdout",
     "output_type": "stream",
     "text": [
      "      Vegetable  Quantity  Price\n",
      "0      Tomatoes        10   2.99\n",
      "1        Onions         5   3.99\n",
      "2       Lettuce         1   2.49\n",
      "3  Green Onions         5   4.50\n"
     ]
    }
   ],
   "source": [
    "# Load the CSV file\n",
    "file_path = 'vegetables.csv'  \n",
    "df = pd.read_csv(file_path)\n",
    "\n",
    "# Display the contents\n",
    "print(df)"
   ]
  },
  {
   "cell_type": "code",
   "execution_count": 8,
   "metadata": {},
   "outputs": [
    {
     "name": "stdout",
     "output_type": "stream",
     "text": [
      "      Vegetable  Quantity  Price\n",
      "0      Tomatoes        10   2.99\n",
      "1        Onions         5   3.99\n",
      "2       Lettuce         2   2.49\n",
      "3  Green Onions         5   4.50\n",
      "4      Potatoes         8   7.50\n"
     ]
    }
   ],
   "source": [
    "# Load the updated CSV file\n",
    "file_path1 = 'vegetables_updated.csv'  \n",
    "df = pd.read_csv(file_path1)\n",
    "\n",
    "# Display the contents\n",
    "print(df)"
   ]
  }
 ],
 "metadata": {
  "kernelspec": {
   "display_name": "Python 3",
   "language": "python",
   "name": "python3"
  },
  "language_info": {
   "codemirror_mode": {
    "name": "ipython",
    "version": 3
   },
   "file_extension": ".py",
   "mimetype": "text/x-python",
   "name": "python",
   "nbconvert_exporter": "python",
   "pygments_lexer": "ipython3",
   "version": "3.13.1"
  }
 },
 "nbformat": 4,
 "nbformat_minor": 2
}
